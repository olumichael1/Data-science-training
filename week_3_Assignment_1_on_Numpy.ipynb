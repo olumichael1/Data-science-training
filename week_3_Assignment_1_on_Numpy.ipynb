{
  "nbformat": 4,
  "nbformat_minor": 0,
  "metadata": {
    "colab": {
      "name": "week 3. Assignment 1 on Numpy.ipynb",
      "provenance": [],
      "collapsed_sections": []
    },
    "kernelspec": {
      "name": "python3",
      "display_name": "Python 3"
    },
    "language_info": {
      "name": "python"
    }
  },
  "cells": [
    {
      "cell_type": "markdown",
      "metadata": {
        "id": "sxF6aSH4bCPO"
      },
      "source": [
        "Create two different array( x and y) from a list"
      ]
    },
    {
      "cell_type": "code",
      "metadata": {
        "colab": {
          "base_uri": "https://localhost:8080/"
        },
        "id": "S3r6NN1szQPi",
        "outputId": "cbe71f06-8707-4c14-b0b9-61eb83b0ddd2"
      },
      "source": [
        "#creating Array x and y\n",
        "import numpy as np\n",
        "\n",
        "arr_x = np.array([[11,21,23,27],[2,17,0,5]])       #array x create\n",
        "\n",
        "arr_y = np.array([[10,12,16,18],[3,9,1,15]])       #array y create\n",
        "\n",
        "print(\"Array x\")\n",
        "print(arr_x)\n",
        "\n",
        "print (\"and\")\n",
        "\n",
        "print(\"Array y\")\n",
        "print(arr_y)"
      ],
      "execution_count": 18,
      "outputs": [
        {
          "output_type": "stream",
          "text": [
            "Array x\n",
            "[[11 21 23 27]\n",
            " [ 2 17  0  5]]\n",
            "and\n",
            "Array y\n",
            "[[10 12 16 18]\n",
            " [ 3  9  1 15]]\n"
          ],
          "name": "stdout"
        }
      ]
    },
    {
      "cell_type": "markdown",
      "metadata": {
        "id": "qYuLweNeb7uV"
      },
      "source": [
        "Addition of array, x and y. Print the result"
      ]
    },
    {
      "cell_type": "code",
      "metadata": {
        "colab": {
          "base_uri": "https://localhost:8080/"
        },
        "id": "_1gnXgf0cBTN",
        "outputId": "726f5db3-c456-4bb2-e9ef-e615fd577e1c"
      },
      "source": [
        "# addition of array_x and array_y\n",
        "\n",
        "print(\"Direct Addition\")\n",
        "\n",
        "print (arr_x + arr_y)"
      ],
      "execution_count": 13,
      "outputs": [
        {
          "output_type": "stream",
          "text": [
            "Direct Addition\n",
            "[[21 33 39 45]\n",
            " [ 5 26  1 20]]\n"
          ],
          "name": "stdout"
        }
      ]
    },
    {
      "cell_type": "markdown",
      "metadata": {
        "id": "QVfQGNvidNv1"
      },
      "source": [
        "Subtract array, x from y. Print the result"
      ]
    },
    {
      "cell_type": "code",
      "metadata": {
        "colab": {
          "base_uri": "https://localhost:8080/"
        },
        "id": "_uOdU3LPdQrb",
        "outputId": "3692c541-dca0-465c-ce34-a72acec951db"
      },
      "source": [
        "# subtraction of array_x from array_y\n",
        "\n",
        "print(\"Direct subtraction\")\n",
        "print (arr_x - arr_y)"
      ],
      "execution_count": 15,
      "outputs": [
        {
          "output_type": "stream",
          "text": [
            "Direct subtraction\n",
            "[[  1   9   7   9]\n",
            " [ -1   8  -1 -10]]\n"
          ],
          "name": "stdout"
        }
      ]
    },
    {
      "cell_type": "markdown",
      "metadata": {
        "id": "w6DPMn16dv-r"
      },
      "source": [
        "Multiply array, x by 5. Print the result."
      ]
    },
    {
      "cell_type": "code",
      "metadata": {
        "colab": {
          "base_uri": "https://localhost:8080/"
        },
        "id": "qvOCLw6hd1Rr",
        "outputId": "ff6bb2a4-5cd1-4ef8-cffb-1731a5478fe2"
      },
      "source": [
        "# multiply array_x by 5\n",
        "\n",
        "print(\"Direct multiplication\")\n",
        "print(arr_x * 5)                  # multiplying array x by 5"
      ],
      "execution_count": 16,
      "outputs": [
        {
          "output_type": "stream",
          "text": [
            "Direct multiplication\n",
            "[[ 55 105 115 135]\n",
            " [ 10  85   0  25]]\n"
          ],
          "name": "stdout"
        }
      ]
    },
    {
      "cell_type": "markdown",
      "metadata": {
        "id": "t9Rm42rvdwm7"
      },
      "source": [
        "Divide array, y and 10. Print the result."
      ]
    },
    {
      "cell_type": "code",
      "metadata": {
        "colab": {
          "base_uri": "https://localhost:8080/"
        },
        "id": "RamA-5SLd0yy",
        "outputId": "e015a179-7b1a-409b-e20d-4b859d4ad59e"
      },
      "source": [
        "# Dividing array y with 10\n",
        "\n",
        "print(\"Direct division\")\n",
        "print(arr_y / 10)"
      ],
      "execution_count": 17,
      "outputs": [
        {
          "output_type": "stream",
          "text": [
            "Direct division\n",
            "[[1.  1.2 1.6 1.8]\n",
            " [0.3 0.9 0.1 1.5]]\n"
          ],
          "name": "stdout"
        }
      ]
    }
  ]
}