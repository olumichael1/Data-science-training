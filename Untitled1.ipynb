{
  "nbformat": 4,
  "nbformat_minor": 0,
  "metadata": {
    "colab": {
      "name": "Untitled1.ipynb",
      "provenance": [],
      "collapsed_sections": [],
      "authorship_tag": "ABX9TyM2eh70GU7CA9g5+HsFKOdy",
      "include_colab_link": true
    },
    "kernelspec": {
      "name": "python3",
      "display_name": "Python 3"
    },
    "language_info": {
      "name": "python"
    }
  },
  "cells": [
    {
      "cell_type": "markdown",
      "metadata": {
        "id": "view-in-github",
        "colab_type": "text"
      },
      "source": [
        "<a href=\"https://colab.research.google.com/github/olumichael1/Data-science-training/blob/main/Untitled1.ipynb\" target=\"_parent\"><img src=\"https://colab.research.google.com/assets/colab-badge.svg\" alt=\"Open In Colab\"/></a>"
      ]
    },
    {
      "cell_type": "code",
      "metadata": {
        "colab": {
          "base_uri": "https://localhost:8080/"
        },
        "id": "sMj_iuCsv6p7",
        "outputId": "3bb455d9-aad1-4193-dde2-77e2b3542272"
      },
      "source": [
        "from platform import python_version\n",
        "print(python_version())"
      ],
      "execution_count": 13,
      "outputs": [
        {
          "output_type": "stream",
          "text": [
            "3.7.10\n"
          ],
          "name": "stdout"
        }
      ]
    },
    {
      "cell_type": "code",
      "metadata": {
        "colab": {
          "base_uri": "https://localhost:8080/"
        },
        "id": "4978GyFPw02z",
        "outputId": "7bd2aa48-d846-49c7-ebcf-de770b903d1d"
      },
      "source": [
        "#1\n",
        "P = float(input(\"Enter the principal amount : \"))\n",
        "N = float(input(\"Enter the number of years : \"))\n",
        "R = float(input(\"Enter the rate of interest : \"))\n",
        "#2\n",
        "SI = (P * N * R)/100\n",
        "print(\"Simple interest : {}\".format(SI))"
      ],
      "execution_count": 19,
      "outputs": [
        {
          "output_type": "stream",
          "text": [
            "Enter the principal amount : 1000\n",
            "Enter the number of years : 3\n",
            "Enter the rate of interest : 2\n",
            "Simple interest : 60.0\n"
          ],
          "name": "stdout"
        }
      ]
    }
  ]
}